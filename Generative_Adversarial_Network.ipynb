{
 "cells": [
  {
   "cell_type": "code",
   "execution_count": 2,
   "metadata": {},
   "outputs": [
    {
     "name": "stderr",
     "output_type": "stream",
     "text": [
      "Using TensorFlow backend.\n"
     ]
    }
   ],
   "source": [
    "import numpy as np\n",
    "import tensorflow as tf\n",
    "import keras\n",
    "import matplotlib.pyplot as plt\n",
    "from __future__ import print_function\n",
    "\n",
    "from keras.layers import Input\n",
    "from keras.models import Model, Sequential\n",
    "from keras.layers.core import Dense, Dropout, Activation\n",
    "from keras.layers.advanced_activations import LeakyReLU\n",
    "from keras.datasets import mnist\n",
    "from keras.optimizers import Adam\n",
    "from keras import initializers"
   ]
  },
  {
   "cell_type": "code",
   "execution_count": 3,
   "metadata": {},
   "outputs": [
    {
     "name": "stdout",
     "output_type": "stream",
     "text": [
      "............................\n",
      "............................\n",
      "............................\n",
      "............................\n",
      "............................\n",
      "....................XXX.....\n",
      "....XX..............XXX.....\n",
      "....XX.............XXXX.....\n",
      "....XX.............XXX......\n",
      "....XX.............XXX......\n",
      "...XXX.............XXX......\n",
      "...XXX............XXXX......\n",
      "...XXX............XXXX......\n",
      "...XXX.........XXXXXX.......\n",
      "...XXX...XXXXXXXXXXXX.......\n",
      "...XXXXXXXXXXXXXXXXX........\n",
      "....XXXXXXXX.....XXX........\n",
      ".................XXX........\n",
      ".................XXX........\n",
      ".................XXX........\n",
      ".................XXX........\n",
      ".................XXX........\n",
      ".................XXX........\n",
      ".................XXX........\n",
      ".................XXX........\n",
      "............................\n",
      "............................\n",
      "............................\n",
      "Label:  4\n"
     ]
    }
   ],
   "source": [
    "# Load MNIST data\n",
    "(x_train, y_train), (x_test, y_test) = mnist.load_data()\n",
    "\n",
    "for i in range(28):\n",
    "    for j in range(28):\n",
    "        if x_train[2][i][j] == 0:\n",
    "            print('.', end='')\n",
    "        else:\n",
    "            print('X', end='')\n",
    "        \n",
    "        if j == 27:\n",
    "            print('', end='\\n')\n",
    "            \n",
    "print(\"Label: \", y_train[2])\n",
    "\n",
    "# normalize our inputs to be in the range[-1, 1]\n",
    "x_train = (x_train.astype(np.float32) - 127.5)/127.5\n",
    "\n",
    "# convert x_train with a shape of (60000, 28, 28) to (60000, 784)\n",
    "x_train = x_train.reshape(60000, 784)"
   ]
  }
 ],
 "metadata": {
  "kernelspec": {
   "display_name": "Python 2",
   "language": "python",
   "name": "python2"
  },
  "language_info": {
   "codemirror_mode": {
    "name": "ipython",
    "version": 2
   },
   "file_extension": ".py",
   "mimetype": "text/x-python",
   "name": "python",
   "nbconvert_exporter": "python",
   "pygments_lexer": "ipython2",
   "version": "2.7.12"
  }
 },
 "nbformat": 4,
 "nbformat_minor": 2
}
