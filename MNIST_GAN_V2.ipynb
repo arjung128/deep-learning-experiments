{
 "cells": [
  {
   "cell_type": "code",
   "execution_count": 1,
   "metadata": {},
   "outputs": [
    {
     "name": "stderr",
     "output_type": "stream",
     "text": [
      "Using TensorFlow backend.\n"
     ]
    }
   ],
   "source": [
    "import numpy as np\n",
    "import tensorflow as tf\n",
    "import keras\n",
    "import matplotlib.pyplot as plt\n",
    "from __future__ import print_function\n",
    "\n",
    "from keras.layers import Input\n",
    "from keras.models import Model, Sequential\n",
    "from keras.layers.core import Dense, Dropout, Activation\n",
    "from keras.datasets import mnist\n",
    "from keras.optimizers import Adam\n",
    "from keras import initializers"
   ]
  },
  {
   "cell_type": "code",
   "execution_count": 2,
   "metadata": {},
   "outputs": [
    {
     "name": "stdout",
     "output_type": "stream",
     "text": [
      "............................\n",
      "............................\n",
      "............................\n",
      "............................\n",
      "............................\n",
      "....................XXX.....\n",
      "....XX..............XXX.....\n",
      "....XX.............XXXX.....\n",
      "....XX.............XXX......\n",
      "....XX.............XXX......\n",
      "...XXX.............XXX......\n",
      "...XXX............XXXX......\n",
      "...XXX............XXXX......\n",
      "...XXX.........XXXXXX.......\n",
      "...XXX...XXXXXXXXXXXX.......\n",
      "...XXXXXXXXXXXXXXXXX........\n",
      "....XXXXXXXX.....XXX........\n",
      ".................XXX........\n",
      ".................XXX........\n",
      ".................XXX........\n",
      ".................XXX........\n",
      ".................XXX........\n",
      ".................XXX........\n",
      ".................XXX........\n",
      ".................XXX........\n",
      "............................\n",
      "............................\n",
      "............................\n",
      "Label:  4\n"
     ]
    }
   ],
   "source": [
    "# Load MNIST data\n",
    "(x_train, y_train), (x_test, y_test) = mnist.load_data()\n",
    "\n",
    "# Display a sample of the data\n",
    "for i in range(28):\n",
    "    for j in range(28):\n",
    "        if x_train[2][i][j] == 0:\n",
    "            print('.', end='')\n",
    "        else:\n",
    "            print('X', end='')\n",
    "        \n",
    "        if j == 27:\n",
    "            print('', end='\\n')\n",
    "\n",
    "# Print correct label\n",
    "print(\"Label: \", y_train[2])\n",
    "\n",
    "# normalize our inputs to be in the range[-1, 1]\n",
    "x_train = (x_train.astype(np.float32) - 127.5)/127.5\n",
    "\n",
    "# convert x_train with a shape of (60000, 28, 28) to (60000, 784)\n",
    "x_train = x_train.reshape(60000, 784)"
   ]
  },
  {
   "cell_type": "code",
   "execution_count": 3,
   "metadata": {},
   "outputs": [],
   "source": [
    "random_dim = 100\n",
    "\n",
    "# Generator\n",
    "generator = Sequential()\n",
    "\n",
    "generator.add(Dense(256, input_dim=random_dim, kernel_initializer=initializers.RandomNormal(stddev=0.02)))\n",
    "generator.add(Activation(lambda x: tf.nn.relu(x)-0.2*tf.nn.relu(-x)))\n",
    "\n",
    "generator.add(Dense(512))\n",
    "generator.add(Activation(lambda x: tf.nn.relu(x)-0.2*tf.nn.relu(-x)))\n",
    "\n",
    "generator.add(Dense(1024))\n",
    "generator.add(Activation(lambda x: tf.nn.relu(x)-0.2*tf.nn.relu(-x)))\n",
    "\n",
    "generator.add(Dense(784, activation='tanh'))\n",
    "generator.compile(loss='binary_crossentropy', optimizer=Adam(lr=0.0002, beta_1=0.5))\n",
    "\n",
    "# Discriminator\n",
    "discriminator = Sequential()\n",
    "\n",
    "discriminator.add(Dense(1024, input_dim=784, kernel_initializer=initializers.RandomNormal(stddev=0.02)))\n",
    "discriminator.add(Activation(lambda x: tf.nn.relu(x)-0.2*tf.nn.relu(-x)))\n",
    "discriminator.add(Dropout(0.3))\n",
    "\n",
    "discriminator.add(Dense(512))\n",
    "discriminator.add(Activation(lambda x: tf.nn.relu(x)-0.2*tf.nn.relu(-x)))\n",
    "discriminator.add(Dropout(0.3))\n",
    "\n",
    "discriminator.add(Dense(256))\n",
    "discriminator.add(Activation(lambda x: tf.nn.relu(x)-0.2*tf.nn.relu(-x)))\n",
    "discriminator.add(Dropout(0.3))\n",
    "\n",
    "discriminator.add(Dense(1, activation='sigmoid'))\n",
    "discriminator.compile(loss='binary_crossentropy', optimizer=Adam(lr=0.0002, beta_1=0.5))"
   ]
  },
  {
   "cell_type": "code",
   "execution_count": 4,
   "metadata": {},
   "outputs": [],
   "source": [
    "# GAN\n",
    "\n",
    "# initially -- since we only want to train either the generator or discriminator at a time\n",
    "discriminator.trainable = False\n",
    "\n",
    "# gan input (noise) will be 100-dimensional vectors\n",
    "gan_input = Input(shape=(random_dim,))\n",
    "\n",
    "gan = Model(inputs = gan_input, outputs = discriminator(generator(gan_input)) )\n",
    "\n",
    "gan.compile(loss='binary_crossentropy', optimizer=Adam(lr=0.0002, beta_1=0.5))"
   ]
  },
  {
   "cell_type": "code",
   "execution_count": 5,
   "metadata": {},
   "outputs": [
    {
     "name": "stdout",
     "output_type": "stream",
     "text": [
      "--------------- Epoch: 0 ---------------\n",
      "--------------- Epoch: 1 ---------------\n",
      "--------------- Epoch: 2 ---------------\n",
      "--------------- Epoch: 3 ---------------\n",
      "--------------- Epoch: 4 ---------------\n",
      "--------------- Epoch: 5 ---------------\n",
      "--------------- Epoch: 6 ---------------\n",
      "--------------- Epoch: 7 ---------------\n",
      "--------------- Epoch: 8 ---------------\n",
      "--------------- Epoch: 9 ---------------\n",
      "--------------- Epoch: 10 ---------------\n",
      "--------------- Epoch: 11 ---------------\n",
      "--------------- Epoch: 12 ---------------\n",
      "--------------- Epoch: 13 ---------------\n",
      "--------------- Epoch: 14 ---------------\n",
      "--------------- Epoch: 15 ---------------\n",
      "--------------- Epoch: 16 ---------------\n",
      "--------------- Epoch: 17 ---------------\n",
      "--------------- Epoch: 18 ---------------\n",
      "--------------- Epoch: 19 ---------------\n",
      "--------------- Epoch: 20 ---------------\n",
      "--------------- Epoch: 21 ---------------\n",
      "--------------- Epoch: 22 ---------------\n",
      "--------------- Epoch: 23 ---------------\n",
      "--------------- Epoch: 24 ---------------\n",
      "--------------- Epoch: 25 ---------------\n",
      "--------------- Epoch: 26 ---------------\n",
      "--------------- Epoch: 27 ---------------\n",
      "--------------- Epoch: 28 ---------------\n",
      "--------------- Epoch: 29 ---------------\n",
      "--------------- Epoch: 30 ---------------\n",
      "--------------- Epoch: 31 ---------------\n",
      "--------------- Epoch: 32 ---------------\n",
      "--------------- Epoch: 33 ---------------\n",
      "--------------- Epoch: 34 ---------------\n",
      "--------------- Epoch: 35 ---------------\n",
      "--------------- Epoch: 36 ---------------\n",
      "--------------- Epoch: 37 ---------------\n",
      "--------------- Epoch: 38 ---------------\n",
      "--------------- Epoch: 39 ---------------\n"
     ]
    }
   ],
   "source": [
    "epochs = 40\n",
    "batch_size = 20000\n",
    "\n",
    "# Number of batches\n",
    "batch_count = x_train.shape[0] / batch_size\n",
    "\n",
    "for i in range(epochs):\n",
    "    \n",
    "    print('-'*15, 'Epoch: ' + str(i), '-'*15)\n",
    "    \n",
    "    start = 0\n",
    "    end = batch_size\n",
    "    \n",
    "    for j in range(batch_count):\n",
    "        \n",
    "        # Get a random set of input noise and images\n",
    "        noise = np.random.normal(0, 1, size=[batch_size, random_dim])        \n",
    "        image_batch = x_train[start:end]\n",
    "        \n",
    "        # Generate fake MNIST images\n",
    "        generated_images = generator.predict(noise)\n",
    "        X = np.concatenate([image_batch, generated_images])\n",
    "        # generated_images.shape = (batch_size, 784), X.shape = (2 * batch_size, 784)\n",
    "\n",
    "        # Labels for generated and real data\n",
    "        y_dis = np.zeros(2*batch_size)\n",
    "        y_dis[:batch_size] = 1\n",
    "\n",
    "        # Train discriminator\n",
    "        discriminator.trainable = True\n",
    "        discriminator.train_on_batch(X, y_dis)\n",
    "\n",
    "        # Train generator\n",
    "        noise = np.random.normal(0, 1, size=[batch_size, random_dim])\n",
    "        # The y-label will be 1 since we want to train the generator such that the GAN gives out 1\n",
    "        y_gen = np.ones(batch_size)\n",
    "        discriminator.trainable = False\n",
    "        gan.train_on_batch(noise, y_gen)\n",
    "        \n",
    "        # Update start and end\n",
    "        start += batch_size\n",
    "        end += batch_size"
   ]
  },
  {
   "cell_type": "code",
   "execution_count": 6,
   "metadata": {},
   "outputs": [
    {
     "data": {
      "image/png": "[encoded data removed]",
      "text/plain": [
       "<matplotlib.figure.Figure at 0x3fff89f3fdd0>"
      ]
     },
     "metadata": {},
     "output_type": "display_data"
    },
    {
     "name": "stdout",
     "output_type": "stream",
     "text": [
      "[ 0.42321676]\n"
     ]
    },
    {
     "data": {
      "image/png": "[encoded data removed]",
      "text/plain": [
       "<matplotlib.figure.Figure at 0x3eefd2e5d5d0>"
      ]
     },
     "metadata": {},
     "output_type": "display_data"
    },
    {
     "name": "stdout",
     "output_type": "stream",
     "text": [
      "[ 0.38285968]\n"
     ]
    },
    {
     "data": {
      "image/png": "[encoded data removed]",
      "text/plain": [
       "<matplotlib.figure.Figure at 0x3eefd0d6e690>"
      ]
     },
     "metadata": {},
     "output_type": "display_data"
    },
    {
     "name": "stdout",
     "output_type": "stream",
     "text": [
      "[ 0.39778459]\n"
     ]
    },
    {
     "data": {
      "image/png": "[encoded data removed]",
      "text/plain": [
       "<matplotlib.figure.Figure at 0x3eefd0cba390>"
      ]
     },
     "metadata": {},
     "output_type": "display_data"
    },
    {
     "name": "stdout",
     "output_type": "stream",
     "text": [
      "[ 0.37058303]\n"
     ]
    },
    {
     "data": {
      "image/png": "[encoded data removed]",
      "text/plain": [
       "<matplotlib.figure.Figure at 0x3eefd0bf34d0>"
      ]
     },
     "metadata": {},
     "output_type": "display_data"
    },
    {
     "name": "stdout",
     "output_type": "stream",
     "text": [
      "[ 0.3902508]\n"
     ]
    }
   ],
   "source": [
    "# Display a sample of the results\n",
    "examples = 5\n",
    "noise = np.random.normal(0, 1, size=[examples, random_dim])\n",
    "generated_images = generator.predict(noise)\n",
    "arr = discriminator.predict(generated_images)\n",
    "generated_images = generated_images.reshape(examples, 28, 28)\n",
    "for k in range(examples):\n",
    "    plt.imshow(generated_images[k], interpolation='nearest', cmap='gray_r')\n",
    "    plt.show()\n",
    "    print(arr[k])"
   ]
  },
  {
   "cell_type": "code",
   "execution_count": 7,
   "metadata": {
    "scrolled": false
   },
   "outputs": [
    {
     "name": "stdout",
     "output_type": "stream",
     "text": [
      "......................................................................................................................................................................................................................................................................................................................................................................................................................................................................................................................................................................................................................................................................................................................................................................................................................................................................................................................................................................................................................................................................................................................................................................................................................................................................................................................................................................................................................................................................................................................................................................................................................................................................................................................................................................................................................................................................................................................................................................................................................................................................................................................................................................................................................................................................................................................................................................................................................................................................................................................................................................................................................................................................................................................................................................................................................................................................................................................................................................................................................................................................................................................................................................................................................................................................................................................................................................................................................................................................................................................................................................................................................................................................................................................................................................................................................................................................................................................................................................................................................................................................................................................................................................................................................................................................................................................................................................................................................................................................................................................................................................................................................................................................................................................................................................................................................................................................................................................................................................................................................................................................................................................................................................................................................................................................................................................................................................................................................................................................................................................................................................................................................................................................................................................................................................................................................................................................................................................................................................................................................................................................................................................................................................................................................................................................................................................................................................................................................................................................................................................................................................................................................................................................................................................................................................................................................................................................................................................................................................................................................................................................................................................................................................................................................................................................................................................................................................................................................................................................................................................................................................................................................................................................................................................................................................................................................................................................................................................................................................................................................................................................................................................................................................................................................................................................................................................................................................................................................................................................................................................................................................................................................................................"
     ]
    },
    {
     "name": "stdout",
     "output_type": "stream",
     "text": [
      ".............................................................................................................................................................................................................................................................................................................................................................................................................................................................................................................................................................................................................................................................................................................................................................................................................................................................................................................................................................................................................................................................................................................................................................................................................................................................................................................................................................................................................................................................................................................................................................................................................................................................................................................................................................................................................................................................................................................................................................................................................................................................................................................................................................................................................................................................................................................................................................................................................................................................................................................................................................................................................................................................................................................................................................................................................................................................................................................................................................................................................................................................................................................................................................................................................................................................................................................................................................................................................................................................................................................................................................................................................................................................................................................................................................................................................................................................................................................................................................................................................................................................................................................................................................................................................................................................................................................................................................................................................................................................................................................................................................................................................................................................................................................................................................................................................................................................................................................................................................................................................................................................................................................................................................................................................................................................................................................................................................................................................................................................................................................................................................................................................................................................................................................................................................................................................................................................................................................................................................................................................................................................................................................................................................................................................................................................................................................................................................................................................................................................................................................................................................................................................................................................................................................................................................................................................................................................................................................................................................................................................................................................................................................................................................................................................................................................................................................................................................................................................................................................................................................................................................................................................................................................................................................................................................................................................................................................................................................................................................................................................................................................................................................................................................................................................................................................................................................................................................................................................................................................................................................................................................................."
     ]
    },
    {
     "name": "stdout",
     "output_type": "stream",
     "text": [
      "...................................................................................................................................................................................................................................................................................................................................................................................................................................................................................................................................................................................................................................................................................................................................................................................................................................................................................................................................................................................................................................................................................................................................................................................................................................................................................................................................................................................................................................................................................................................................................................................................................................................................................................................................................................................................................................................................................................................................................................................................................................................................................................................................................................................................................................................................................................................................................................................................................................................................................................................................................................................................................................................................................................................................................................................................................................................................................................................................................................................................................................................................................................................................................................................................................................................................................................................................................................................................................................................................................................................................................................................................................................................................................................................................................................................................................................................................................................................................................................................................................................................................................................................................................................................................................................................................................................................................................................................................................................................................................................................................................................................................................................................................................................................................................................................................................................................................................................................................................................................................................................................................................................................................................................................................................................................................................................................................................................................................................................................................................................................................................................................................................................................................................................................................................................................................................................................................................................................................................................................................................................................................................................................................................................................................................................................................................................................................................................................................................................................................................................................................................................................................................................................................................................................................................................................................................................................................................................................................................................................................................................................................."
     ]
    },
    {
     "ename": "KeyboardInterrupt",
     "evalue": "",
     "output_type": "error",
     "traceback": [
      "\u001b[0;31m---------------------------------------------------------------------------\u001b[0m",
      "\u001b[0;31mKeyboardInterrupt\u001b[0m                         Traceback (most recent call last)",
      "\u001b[0;32m<ipython-input-7-68aab7fd9893>\u001b[0m in \u001b[0;36m<module>\u001b[0;34m()\u001b[0m\n\u001b[1;32m      3\u001b[0m     \u001b[0;32mprint\u001b[0m\u001b[0;34m(\u001b[0m\u001b[0;34m\".\"\u001b[0m\u001b[0;34m,\u001b[0m \u001b[0mend\u001b[0m\u001b[0;34m=\u001b[0m\u001b[0;34m\"\"\u001b[0m\u001b[0;34m)\u001b[0m\u001b[0;34m\u001b[0m\u001b[0m\n\u001b[1;32m      4\u001b[0m     \u001b[0mnoise\u001b[0m \u001b[0;34m=\u001b[0m \u001b[0mnp\u001b[0m\u001b[0;34m.\u001b[0m\u001b[0mrandom\u001b[0m\u001b[0;34m.\u001b[0m\u001b[0mnormal\u001b[0m\u001b[0;34m(\u001b[0m\u001b[0;36m0\u001b[0m\u001b[0;34m,\u001b[0m \u001b[0;36m1\u001b[0m\u001b[0;34m,\u001b[0m \u001b[0msize\u001b[0m\u001b[0;34m=\u001b[0m\u001b[0;34m[\u001b[0m\u001b[0;36m1\u001b[0m\u001b[0;34m,\u001b[0m \u001b[0mrandom_dim\u001b[0m\u001b[0;34m]\u001b[0m\u001b[0;34m)\u001b[0m\u001b[0;34m\u001b[0m\u001b[0m\n\u001b[0;32m----> 5\u001b[0;31m     \u001b[0mgenerated_images\u001b[0m \u001b[0;34m=\u001b[0m \u001b[0mgenerator\u001b[0m\u001b[0;34m.\u001b[0m\u001b[0mpredict\u001b[0m\u001b[0;34m(\u001b[0m\u001b[0mnoise\u001b[0m\u001b[0;34m)\u001b[0m\u001b[0;34m\u001b[0m\u001b[0m\n\u001b[0m\u001b[1;32m      6\u001b[0m     \u001b[0marr\u001b[0m \u001b[0;34m=\u001b[0m \u001b[0mdiscriminator\u001b[0m\u001b[0;34m.\u001b[0m\u001b[0mpredict\u001b[0m\u001b[0;34m(\u001b[0m\u001b[0mgenerated_images\u001b[0m\u001b[0;34m)\u001b[0m\u001b[0;34m\u001b[0m\u001b[0m\n\u001b[1;32m      7\u001b[0m \u001b[0;34m\u001b[0m\u001b[0m\n",
      "\u001b[0;32m/home/arjung2/.local/lib/python2.7/site-packages/keras/models.pyc\u001b[0m in \u001b[0;36mpredict\u001b[0;34m(self, x, batch_size, verbose, steps)\u001b[0m\n\u001b[1;32m   1062\u001b[0m             \u001b[0mself\u001b[0m\u001b[0;34m.\u001b[0m\u001b[0mbuild\u001b[0m\u001b[0;34m(\u001b[0m\u001b[0;34m)\u001b[0m\u001b[0;34m\u001b[0m\u001b[0m\n\u001b[1;32m   1063\u001b[0m         return self.model.predict(x, batch_size=batch_size, verbose=verbose,\n\u001b[0;32m-> 1064\u001b[0;31m                                   steps=steps)\n\u001b[0m\u001b[1;32m   1065\u001b[0m \u001b[0;34m\u001b[0m\u001b[0m\n\u001b[1;32m   1066\u001b[0m     \u001b[0;32mdef\u001b[0m \u001b[0mpredict_on_batch\u001b[0m\u001b[0;34m(\u001b[0m\u001b[0mself\u001b[0m\u001b[0;34m,\u001b[0m \u001b[0mx\u001b[0m\u001b[0;34m)\u001b[0m\u001b[0;34m:\u001b[0m\u001b[0;34m\u001b[0m\u001b[0m\n",
      "\u001b[0;32m/home/arjung2/.local/lib/python2.7/site-packages/keras/engine/training.pyc\u001b[0m in \u001b[0;36mpredict\u001b[0;34m(self, x, batch_size, verbose, steps)\u001b[0m\n\u001b[1;32m   1833\u001b[0m         \u001b[0mf\u001b[0m \u001b[0;34m=\u001b[0m \u001b[0mself\u001b[0m\u001b[0;34m.\u001b[0m\u001b[0mpredict_function\u001b[0m\u001b[0;34m\u001b[0m\u001b[0m\n\u001b[1;32m   1834\u001b[0m         return self._predict_loop(f, ins, batch_size=batch_size,\n\u001b[0;32m-> 1835\u001b[0;31m                                   verbose=verbose, steps=steps)\n\u001b[0m\u001b[1;32m   1836\u001b[0m \u001b[0;34m\u001b[0m\u001b[0m\n\u001b[1;32m   1837\u001b[0m     def train_on_batch(self, x, y,\n",
      "\u001b[0;31mKeyboardInterrupt\u001b[0m: "
     ]
    }
   ],
   "source": [
    "# Display a sample of the best results\n",
    "while True:\n",
    "    print(\".\", end=\"\")\n",
    "    noise = np.random.normal(0, 1, size=[1, random_dim])\n",
    "    generated_images = generator.predict(noise)\n",
    "    arr = discriminator.predict(generated_images)\n",
    "    \n",
    "    if arr[0] > 0.6:\n",
    "        break\n",
    "\n",
    "generated_images = generated_images.reshape(1, 28, 28)\n",
    "plt.imshow(generated_images[0], interpolation='nearest', cmap='gray_r')\n",
    "plt.show()\n",
    "print(arr[0])"
   ]
  },
  {
   "cell_type": "code",
   "execution_count": null,
   "metadata": {},
   "outputs": [],
   "source": []
  }
 ],
 "metadata": {
  "kernelspec": {
   "display_name": "Python 2",
   "language": "python",
   "name": "python2"
  },
  "language_info": {
   "codemirror_mode": {
    "name": "ipython",
    "version": 2
   },
   "file_extension": ".py",
   "mimetype": "text/x-python",
   "name": "python",
   "nbconvert_exporter": "python",
   "pygments_lexer": "ipython2",
   "version": "2.7.12"
  }
 },
 "nbformat": 4,
 "nbformat_minor": 2
}
