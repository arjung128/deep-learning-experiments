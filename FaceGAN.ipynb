{
 "cells": [
  {
   "cell_type": "code",
   "execution_count": 1,
   "metadata": {},
   "outputs": [
    {
     "name": "stderr",
     "output_type": "stream",
     "text": [
      "/home/arjung2/anaconda3/lib/python3.6/site-packages/h5py/__init__.py:36: FutureWarning: Conversion of the second argument of issubdtype from `float` to `np.floating` is deprecated. In future, it will be treated as `np.float64 == np.dtype(float).type`.\n",
      "  from ._conv import register_converters as _register_converters\n",
      "Using TensorFlow backend.\n"
     ]
    }
   ],
   "source": [
    "import time\n",
    "import os, fnmatch\n",
    "import numpy as np\n",
    "import tensorflow as tf\n",
    "import keras\n",
    "import matplotlib.pyplot as plt\n",
    "from __future__ import print_function\n",
    "\n",
    "from keras.preprocessing.image import ImageDataGenerator, array_to_img, img_to_array, load_img\n",
    "from keras.layers import Input\n",
    "from keras.models import Model, Sequential\n",
    "from keras.layers.core import Dense, Dropout, Activation\n",
    "from keras.datasets import mnist\n",
    "from keras.optimizers import Adam\n",
    "from keras import initializers\n",
    "from keras.layers import Input, Conv2D, Lambda, merge, Dense, Flatten,MaxPooling2D, Conv2DTranspose, BatchNormalization, UpSampling2D\n",
    "from keras.regularizers import l2\n",
    "import numpy.random as rand"
   ]
  },
  {
   "cell_type": "code",
   "execution_count": 2,
   "metadata": {},
   "outputs": [
    {
     "name": "stdout",
     "output_type": "stream",
     "text": [
      "Number of images: 13233\n",
      "Example file name: lfwfaces/Aaron_Eckhart_0001.jpg\n"
     ]
    }
   ],
   "source": [
    "# create a list, result, of all file names\n",
    "def find(pattern, path):\n",
    "    result = []\n",
    "    for root, dirs, files in os.walk(path):\n",
    "        for name in files:\n",
    "            if fnmatch.fnmatch(name, pattern):\n",
    "                result.append(os.path.join(root, name))\n",
    "    return result\n",
    "\n",
    "result = find('*.jpg', 'lfwfaces')\n",
    "print(\"Number of images: \" + str(len(result)))\n",
    "print(\"Example file name: \" + result[0])"
   ]
  },
  {
   "cell_type": "code",
   "execution_count": 3,
   "metadata": {},
   "outputs": [
    {
     "name": "stdout",
     "output_type": "stream",
     "text": [
      "(13233, 250, 250, 3)\n"
     ]
    }
   ],
   "source": [
    "x_train = []\n",
    "\n",
    "for i in range(len(result)):\n",
    "    img = load_img(result[0])\n",
    "    img = img_to_array(img)\n",
    "    img = (img - 127.5) / 127.5\n",
    "    x_train.append(img)\n",
    "    \n",
    "x_train = np.array(x_train)\n",
    "print(x_train.shape)"
   ]
  },
  {
   "cell_type": "code",
   "execution_count": 4,
   "metadata": {},
   "outputs": [],
   "source": [
    "# x_train = x_train[:1000]\n",
    "\n",
    "def get_batch(size):\n",
    "    \n",
    "    arr = []\n",
    "    \n",
    "    for _ in range(size):\n",
    "        \n",
    "        k = rand.randint(0, 13233)\n",
    "        arr.append(x_train[k])\n",
    "    \n",
    "    return np.array(arr)\n"
   ]
  },
  {
   "cell_type": "code",
   "execution_count": 5,
   "metadata": {},
   "outputs": [],
   "source": [
    "# Generator\n",
    "\n",
    "input_shape = (1, 1, 100)\n",
    "\n",
    "generator = Sequential()\n",
    "\n",
    "# conv2dTranspose layers to upsample\n",
    "# generator.add(Conv2DTranspose(64,(5,5),strides=(2,2),activation='relu',input_shape=input_shape)) \n",
    "# generator.add(BatchNormalization())\n",
    "\n",
    "# generator.add(Conv2DTranspose(128,(5,5),strides=(2,2),activation='relu',input_shape=input_shape)) \n",
    "# generator.add(BatchNormalization())\n",
    "\n",
    "# generator.add(Conv2DTranspose(256,(5,5),strides=(2,2),activation='relu',input_shape=input_shape)) \n",
    "# generator.add(BatchNormalization())\n",
    "\n",
    "# generator.add(Conv2DTranspose(3,(5,5),strides=(2,2),activation='relu',input_shape=input_shape))\n",
    "# generator.add(BatchNormalization())\n",
    "\n",
    "generator.add(UpSampling2D(size=(5, 5), input_shape=input_shape)) # 100 x 5 x 5\n",
    "generator.add(Conv2D(64,(2,2),activation='relu',padding='same')) # 64 x 5 x 5\n",
    "# try adding strides=(2, 2)\n",
    "\n",
    "generator.add(UpSampling2D(5)) # 64 x 25 x 25\n",
    "generator.add(Conv2D(128,(2,2),activation='relu',padding='same')) # 128 x 25 x 25\n",
    "\n",
    "generator.add(UpSampling2D(5)) # 128 x 125 x 125\n",
    "generator.add(Conv2D(256,(2,2),activation='relu',padding='same')) # 256 x 125 x 125\n",
    "\n",
    "generator.add(UpSampling2D(2)) # 256 x 250 x 250\n",
    "generator.add(Conv2D(3,(2,2),activation='relu',padding='same')) # 3 x 250 x 250\n",
    "\n",
    "# goal = 3 x 250 x 250\n",
    "\n",
    "# Discriminator\n",
    "\n",
    "img_shape = (250, 250, 3)\n",
    "\n",
    "discriminator = Sequential()\n",
    "\n",
    "discriminator.add(Conv2D(64,(10,10),activation='relu',input_shape=img_shape)) # 64x241x241 --> 64x120x120\n",
    "discriminator.add(MaxPooling2D())\n",
    "# try changing MaxPooling2D to AveragePooling2D\n",
    "\n",
    "discriminator.add(Conv2D(128,(7,7),activation='relu', kernel_regularizer=l2(2e-4))) # 128x114x114 --> 128x57x57\n",
    "discriminator.add(MaxPooling2D())\n",
    "\n",
    "discriminator.add(Conv2D(256,(4,4),activation='relu',kernel_regularizer=l2(2e-4))) # 256x54x54 --> 256x27x27 \n",
    "discriminator.add(MaxPooling2D())\n",
    "\n",
    "discriminator.add(Conv2D(512,(7,7),activation='relu',kernel_regularizer=l2(2e-4))) # 512x21x21 --> 512x10x10\n",
    "discriminator.add(MaxPooling2D())\n",
    "\n",
    "discriminator.add(Conv2D(1024,(10,10),activation='relu')) # 1024x1x1\n",
    "\n",
    "discriminator.add(Flatten()) # (None, 1024)\n",
    "\n",
    "discriminator.add(Dense(1,activation=\"sigmoid\",kernel_regularizer=l2(1e-3))) # (None, 1)"
   ]
  },
  {
   "cell_type": "code",
   "execution_count": 6,
   "metadata": {},
   "outputs": [
    {
     "name": "stdout",
     "output_type": "stream",
     "text": [
      "_________________________________________________________________\n",
      "Layer (type)                 Output Shape              Param #   \n",
      "=================================================================\n",
      "up_sampling2d_1 (UpSampling2 (None, 5, 5, 100)         0         \n",
      "_________________________________________________________________\n",
      "conv2d_1 (Conv2D)            (None, 5, 5, 64)          25664     \n",
      "_________________________________________________________________\n",
      "up_sampling2d_2 (UpSampling2 (None, 25, 25, 64)        0         \n",
      "_________________________________________________________________\n",
      "conv2d_2 (Conv2D)            (None, 25, 25, 128)       32896     \n",
      "_________________________________________________________________\n",
      "up_sampling2d_3 (UpSampling2 (None, 125, 125, 128)     0         \n",
      "_________________________________________________________________\n",
      "conv2d_3 (Conv2D)            (None, 125, 125, 256)     131328    \n",
      "_________________________________________________________________\n",
      "up_sampling2d_4 (UpSampling2 (None, 250, 250, 256)     0         \n",
      "_________________________________________________________________\n",
      "conv2d_4 (Conv2D)            (None, 250, 250, 3)       3075      \n",
      "=================================================================\n",
      "Total params: 192,963\n",
      "Trainable params: 192,963\n",
      "Non-trainable params: 0\n",
      "_________________________________________________________________\n"
     ]
    }
   ],
   "source": [
    "generator.summary()"
   ]
  },
  {
   "cell_type": "code",
   "execution_count": 7,
   "metadata": {},
   "outputs": [
    {
     "name": "stdout",
     "output_type": "stream",
     "text": [
      "_________________________________________________________________\n",
      "Layer (type)                 Output Shape              Param #   \n",
      "=================================================================\n",
      "conv2d_5 (Conv2D)            (None, 241, 241, 64)      19264     \n",
      "_________________________________________________________________\n",
      "max_pooling2d_1 (MaxPooling2 (None, 120, 120, 64)      0         \n",
      "_________________________________________________________________\n",
      "conv2d_6 (Conv2D)            (None, 114, 114, 128)     401536    \n",
      "_________________________________________________________________\n",
      "max_pooling2d_2 (MaxPooling2 (None, 57, 57, 128)       0         \n",
      "_________________________________________________________________\n",
      "conv2d_7 (Conv2D)            (None, 54, 54, 256)       524544    \n",
      "_________________________________________________________________\n",
      "max_pooling2d_3 (MaxPooling2 (None, 27, 27, 256)       0         \n",
      "_________________________________________________________________\n",
      "conv2d_8 (Conv2D)            (None, 21, 21, 512)       6423040   \n",
      "_________________________________________________________________\n",
      "max_pooling2d_4 (MaxPooling2 (None, 10, 10, 512)       0         \n",
      "_________________________________________________________________\n",
      "conv2d_9 (Conv2D)            (None, 1, 1, 1024)        52429824  \n",
      "_________________________________________________________________\n",
      "flatten_1 (Flatten)          (None, 1024)              0         \n",
      "_________________________________________________________________\n",
      "dense_1 (Dense)              (None, 1)                 1025      \n",
      "=================================================================\n",
      "Total params: 59,799,233\n",
      "Trainable params: 59,799,233\n",
      "Non-trainable params: 0\n",
      "_________________________________________________________________\n"
     ]
    }
   ],
   "source": [
    "discriminator.summary()"
   ]
  },
  {
   "cell_type": "code",
   "execution_count": 8,
   "metadata": {},
   "outputs": [],
   "source": [
    "# GAN\n",
    "\n",
    "# initially -- since we only want to train either the generator or discriminator at a time\n",
    "discriminator.trainable = False\n",
    "\n",
    "# gan input (noise) will be 100-dimensional vectors\n",
    "gan_input = Input(shape=input_shape)\n",
    "\n",
    "gan = Model(inputs = gan_input, outputs = discriminator(generator(gan_input)) )\n",
    "\n",
    "gan.compile(loss='binary_crossentropy', optimizer=Adam(lr=0.0002, beta_1=0.5))\n",
    "\n",
    "discriminator.compile(loss='binary_crossentropy', optimizer=Adam(lr=0.0002, beta_1=0.5))"
   ]
  },
  {
   "cell_type": "code",
   "execution_count": 9,
   "metadata": {
    "scrolled": false
   },
   "outputs": [
    {
     "name": "stdout",
     "output_type": "stream",
     "text": [
      "\n",
      "\n",
      "--------------- Epoch: 0 ---------------\n"
     ]
    },
    {
     "name": "stderr",
     "output_type": "stream",
     "text": [
      "/home/arjung2/anaconda3/lib/python3.6/site-packages/keras/engine/training.py:478: UserWarning: Discrepancy between trainable weights and collected trainable weights, did you set `model.trainable` without calling `model.compile` after ?\n",
      "  'Discrepancy between trainable weights and collected trainable'\n"
     ]
    },
    {
     "name": "stdout",
     "output_type": "stream",
     "text": [
      ".........\n",
      "\n",
      "--------------- Epoch: 1 ---------------\n",
      ".........\n",
      "\n",
      "--------------- Epoch: 2 ---------------\n",
      ".........\n",
      "\n",
      "--------------- Epoch: 3 ---------------\n",
      ".........\n",
      "\n",
      "--------------- Epoch: 4 ---------------\n",
      ".........\n",
      "\n",
      "--------------- Epoch: 5 ---------------\n",
      ".........\n",
      "\n",
      "--------------- Epoch: 6 ---------------\n",
      ".........\n",
      "\n",
      "--------------- Epoch: 7 ---------------\n",
      ".........\n",
      "\n",
      "--------------- Epoch: 8 ---------------\n",
      ".........\n",
      "\n",
      "--------------- Epoch: 9 ---------------\n",
      ".........\n",
      "\n",
      "--------------- Epoch: 10 ---------------\n",
      ".........\n",
      "\n",
      "--------------- Epoch: 11 ---------------\n",
      ".........\n",
      "\n",
      "--------------- Epoch: 12 ---------------\n",
      ".........\n",
      "\n",
      "--------------- Epoch: 13 ---------------\n",
      ".........\n",
      "\n",
      "--------------- Epoch: 14 ---------------\n",
      ".........\n",
      "\n",
      "--------------- Epoch: 15 ---------------\n",
      ".........\n",
      "\n",
      "--------------- Epoch: 16 ---------------\n",
      ".........\n",
      "\n",
      "--------------- Epoch: 17 ---------------\n",
      ".........\n",
      "\n",
      "--------------- Epoch: 18 ---------------\n",
      ".........\n",
      "\n",
      "--------------- Epoch: 19 ---------------\n",
      ".........\n",
      "\n",
      "--------------- Epoch: 20 ---------------\n",
      ".........\n",
      "\n",
      "--------------- Epoch: 21 ---------------\n",
      ".........\n",
      "\n",
      "--------------- Epoch: 22 ---------------\n",
      ".........\n",
      "\n",
      "--------------- Epoch: 23 ---------------\n",
      ".........\n",
      "\n",
      "--------------- Epoch: 24 ---------------\n",
      ".........\n",
      "\n",
      "--------------- Epoch: 25 ---------------\n",
      ".........\n",
      "\n",
      "--------------- Epoch: 26 ---------------\n",
      ".........\n",
      "\n",
      "--------------- Epoch: 27 ---------------\n",
      ".........\n",
      "\n",
      "--------------- Epoch: 28 ---------------\n",
      ".........\n",
      "\n",
      "--------------- Epoch: 29 ---------------\n",
      "........."
     ]
    }
   ],
   "source": [
    "epochs = 30\n",
    "batch_size = 10\n",
    "\n",
    "for i in range(epochs):\n",
    "    \n",
    "    print(\"\\n\")\n",
    "    print('-'*15, 'Epoch: ' + str(i), '-'*15)\n",
    "    \n",
    "    x_train_batch = get_batch(1000)\n",
    "    # Number of batches\n",
    "    batch_count = x_train_batch.shape[0] / batch_size\n",
    "    \n",
    "    start = 0\n",
    "    end = batch_size\n",
    "        \n",
    "    for j in range(int(batch_count)):\n",
    "        \n",
    "        if j % 10 == 0 and j != 0:\n",
    "            print(\".\", end=\"\")\n",
    "        \n",
    "        # Get a random set of input noise and images\n",
    "        noise = np.random.normal(0, 1, size=[batch_size, 1, 1, 100])        \n",
    "        image_batch = x_train_batch[start:end]\n",
    "        image_batch = np.reshape(image_batch, (batch_size, 250, 250, 3))\n",
    "        \n",
    "        # Generate fake MNIST images\n",
    "        generated_images = generator.predict(noise)\n",
    "        # print(image_batch.shape)\n",
    "        # print(generated_images.shape)\n",
    "        X = np.concatenate([image_batch, generated_images])\n",
    "        # generated_images.shape = (batch_size, 784), X.shape = (2 * batch_size, 784)\n",
    "\n",
    "        # Labels for generated and real data\n",
    "        y_dis = np.zeros(2*batch_size)\n",
    "        y_dis[:batch_size] = 1\n",
    "\n",
    "        # Train discriminator\n",
    "        discriminator.trainable = True\n",
    "        discriminator.train_on_batch(X, y_dis)\n",
    "\n",
    "        # Train generator\n",
    "        noise = np.random.normal(0, 1, size=[batch_size, 1, 1, 100])\n",
    "        # The y-label will be 1 since we want to train the generator such that the GAN gives out 1\n",
    "        y_gen = np.ones(batch_size)\n",
    "        discriminator.trainable = False\n",
    "        gan.train_on_batch(noise, y_gen)\n",
    "        \n",
    "        # Update start and end\n",
    "        start += batch_size\n",
    "        end += batch_size"
   ]
  },
  {
   "cell_type": "code",
   "execution_count": 10,
   "metadata": {},
   "outputs": [
    {
     "data": {
      "image/png": "[encoded data removed]",
      "text/plain": [
       "<Figure size 432x288 with 1 Axes>"
      ]
     },
     "metadata": {},
     "output_type": "display_data"
    },
    {
     "name": "stdout",
     "output_type": "stream",
     "text": [
      "[0.5]\n"
     ]
    },
    {
     "data": {
      "image/png": "[encoded data removed]",
      "text/plain": [
       "<Figure size 432x288 with 1 Axes>"
      ]
     },
     "metadata": {},
     "output_type": "display_data"
    },
    {
     "name": "stdout",
     "output_type": "stream",
     "text": [
      "[0.5]\n"
     ]
    },
    {
     "data": {
      "image/png": "[encoded data removed]",
      "text/plain": [
       "<Figure size 432x288 with 1 Axes>"
      ]
     },
     "metadata": {},
     "output_type": "display_data"
    },
    {
     "name": "stdout",
     "output_type": "stream",
     "text": [
      "[0.5]\n"
     ]
    },
    {
     "data": {
      "image/png": "[encoded data removed]",
      "text/plain": [
       "<Figure size 432x288 with 1 Axes>"
      ]
     },
     "metadata": {},
     "output_type": "display_data"
    },
    {
     "name": "stdout",
     "output_type": "stream",
     "text": [
      "[0.5]\n"
     ]
    },
    {
     "data": {
      "image/png": "[encoded data removed]",
      "text/plain": [
       "<Figure size 432x288 with 1 Axes>"
      ]
     },
     "metadata": {},
     "output_type": "display_data"
    },
    {
     "name": "stdout",
     "output_type": "stream",
     "text": [
      "[0.5]\n"
     ]
    }
   ],
   "source": [
    "# Display a sample of the results\n",
    "examples = 5\n",
    "noise = np.random.normal(0, 1, size=[examples, 1, 1, 100])\n",
    "generated_images = generator.predict(noise)\n",
    "arr = discriminator.predict(generated_images)\n",
    "generated_images = generated_images.reshape(examples, 250, 250, 3)\n",
    "for k in range(examples):\n",
    "    # plt.imshow(generated_images[k], interpolation='nearest', cmap='gray_r')\n",
    "    # plt.imshow(generated_images[k], interpolation='nearest')\n",
    "    plt.imshow(generated_images[k])\n",
    "    plt.show()\n",
    "    print(arr[k])"
   ]
  },
  {
   "cell_type": "code",
   "execution_count": null,
   "metadata": {},
   "outputs": [],
   "source": []
  }
 ],
 "metadata": {
  "kernelspec": {
   "display_name": "Python 3",
   "language": "python",
   "name": "python3"
  },
  "language_info": {
   "codemirror_mode": {
    "name": "ipython",
    "version": 3
   },
   "file_extension": ".py",
   "mimetype": "text/x-python",
   "name": "python",
   "nbconvert_exporter": "python",
   "pygments_lexer": "ipython3",
   "version": "3.6.5"
  }
 },
 "nbformat": 4,
 "nbformat_minor": 2
}
