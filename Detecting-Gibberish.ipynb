{
 "cells": [
  {
   "cell_type": "code",
   "execution_count": 94,
   "metadata": {},
   "outputs": [],
   "source": [
    "import math"
   ]
  },
  {
   "cell_type": "code",
   "execution_count": 2,
   "metadata": {},
   "outputs": [
    {
     "name": "stdout",
     "output_type": "stream",
     "text": [
      "Done processing.\n"
     ]
    }
   ],
   "source": [
    "valid_chars = 'abcdefghijklmnopqrstuvwxyz '\n",
    "# characters_ext = 'abcdefghijklmnopqrstuvwxyz .' # numbers?\n",
    "\n",
    "# a dictionary with (valid_character, index) pairs\n",
    "pos = dict([(char, idx) for idx, char in enumerate(valid_chars)])\n",
    "\n",
    "# create a 27 x 27 2D array of frequencies\n",
    "counts = [[1 for i in range(len(valid_chars))] for i in range(len(valid_chars))]\n",
    "# assign 1 to each spot since we do not want any pair's frequency to be 0 (as we multiply the probabilities)\n",
    "\n",
    "for line in open('big.txt'):\n",
    "        \n",
    "    # discard invalid characters and convert uppercase to lowercase\n",
    "    processed = [c.lower() for c in line if c.lower() in valid_chars]\n",
    "        \n",
    "    for start in range(0, len(processed) - 1):\n",
    "        \n",
    "        # curr is a two-character string\n",
    "        curr = ''.join(processed[start:start + 2])\n",
    "            \n",
    "        # increment corresponding value\n",
    "        counts[pos[curr[0]]][pos[curr[1]]] += 1\n",
    "        \n",
    "print(\"Done processing.\")"
   ]
  },
  {
   "cell_type": "code",
   "execution_count": 5,
   "metadata": {},
   "outputs": [
    {
     "name": "stdout",
     "output_type": "stream",
     "text": [
      "e\n",
      "Space\n"
     ]
    }
   ],
   "source": [
    "# Determine most frequent letter pair\n",
    "max = 0\n",
    "sum = 0\n",
    "for i in range(len(counts)):\n",
    "    for j in range(len(counts[i])):\n",
    "        if counts[i][j] > max:\n",
    "            max = counts[i][j]\n",
    "            max_i = i\n",
    "            max_j = j\n",
    "            sum += counts[i][j]\n",
    "\n",
    "# Printing most common pair of letters\n",
    "for char, num in pos.items():\n",
    "    if num == max_i:\n",
    "        if char != \" \":\n",
    "            print(char)\n",
    "        else: \n",
    "            print(\"Space\")\n",
    "for char, num in pos.items():\n",
    "    if num == max_j:\n",
    "        if char != \" \":\n",
    "            print(char)\n",
    "        else: \n",
    "            print(\"Space\")\n",
    "            \n",
    "# Convert frequencies to probabilities            \n",
    "# for i in range(len(counts)):\n",
    "#     for j in range(len(counts[i])):\n",
    "#         counts[i][j] = float(counts[i][j])/sum"
   ]
  },
  {
   "cell_type": "code",
   "execution_count": 96,
   "metadata": {},
   "outputs": [
    {
     "name": "stdout",
     "output_type": "stream",
     "text": [
      "('Accuracy:', 1.0)\n",
      "All messages were predicted correctly.\n"
     ]
    }
   ],
   "source": [
    "def model(message):\n",
    "    \n",
    "    # make message lowercase\n",
    "    message = message.lower()\n",
    "    # remove non-accepted characters from message\n",
    "\n",
    "    # calculate probability\n",
    "    prob = 0.5\n",
    "    for start in range(0, len(message) - 1):\n",
    "\n",
    "            # curr is a two-character string\n",
    "            curr = ''.join(message[start:start + 2])\n",
    "            # print(curr)\n",
    "\n",
    "            # prob *= counts[pos[curr[0]]][pos[curr[1]]]\n",
    "            # prob += math.log(counts[pos[curr[0]]][pos[curr[1]]])\n",
    "            prob += 0.5*(counts[pos[curr[0]]][pos[curr[1]]])/(max)\n",
    "\n",
    "    # print(math.exp(prob))\n",
    "    # prob = (prob / len(message))\n",
    "\n",
    "    # print(prob)\n",
    "    if prob > 0.63:\n",
    "        pred = \"Good\"\n",
    "    else:\n",
    "        pred = \"Bad\"\n",
    "        \n",
    "    return(prob, pred)\n",
    "        \n",
    "# Generate testing data\n",
    "data = {\"Chatbook\": \"Good\",\n",
    "        \"Google\": \"Good\",\n",
    "        \"Microsoft\": \"Good\",\n",
    "        \"Apple\": \"Good\",\n",
    "        \"Facebook\": \"Good\",\n",
    "        \"Reddit\": \"Good\",\n",
    "        \"Bloomberg\": \"Good\",\n",
    "        \"Deep Mind\": \"Good\",\n",
    "        \"American Airlines\": \"Good\",\n",
    "        \"Costco\": \"Good\",\n",
    "        \"asdd\": \"Bad\",\n",
    "        \"ssafj\": \"Bad\",\n",
    "        \"skdsdalfh\": \"Bad\",\n",
    "        \"fjdlsf\": \"Bad\",\n",
    "        \"ghjfghd\": \"Bad\",\n",
    "        \"dskjf\": \"Bad\",\n",
    "        \"sdfjlk\": \"Bad\",\n",
    "        \"fjghdfg\": \"Bad\",\n",
    "        \"opuiet\": \"Bad\",\n",
    "        \"xcnvx\": \"Bad\"}\n",
    "\n",
    "correct = 0\n",
    "total = 0\n",
    "incorrect_message = []\n",
    "incorrect_prob = []\n",
    "for key in data:\n",
    "    # print key, 'corresponds to', data[key]\n",
    "    if data[key] == model(key)[1]:\n",
    "        correct += 1\n",
    "    else: \n",
    "        incorrect_message.append(key)\n",
    "        incorrect_prob.append(model(key)[0])\n",
    "    total += 1\n",
    "    \n",
    "percentage = float(correct) / total\n",
    "print(\"Accuracy:\", percentage)\n",
    "if percentage == 1:\n",
    "    print(\"All messages were predicted correctly.\")\n",
    "else:\n",
    "    print(\"Incorrect Messages:\", incorrect_message)\n",
    "    print(\"Incorrect Probabilities:\", incorrect_prob)"
   ]
  },
  {
   "cell_type": "code",
   "execution_count": null,
   "metadata": {},
   "outputs": [],
   "source": []
  }
 ],
 "metadata": {
  "kernelspec": {
   "display_name": "Python 2",
   "language": "python",
   "name": "python2"
  },
  "language_info": {
   "codemirror_mode": {
    "name": "ipython",
    "version": 2
   },
   "file_extension": ".py",
   "mimetype": "text/x-python",
   "name": "python",
   "nbconvert_exporter": "python",
   "pygments_lexer": "ipython2",
   "version": "2.7.12"
  }
 },
 "nbformat": 4,
 "nbformat_minor": 2
}
