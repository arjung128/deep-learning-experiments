{
 "cells": [
  {
   "cell_type": "code",
   "execution_count": 1,
   "metadata": {},
   "outputs": [
    {
     "name": "stderr",
     "output_type": "stream",
     "text": [
      "Using TensorFlow backend.\n"
     ]
    }
   ],
   "source": [
    "import time\n",
    "import tensorflow as tf\n",
    "from keras.layers.core import Dense, Activation, Dropout\n",
    "from keras.layers.recurrent import LSTM\n",
    "from keras.models import Sequential\n",
    "import numpy as np\n",
    "from numpy import newaxis\n",
    "import matplotlib.pyplot as plt"
   ]
  },
  {
   "cell_type": "code",
   "execution_count": 3,
   "metadata": {},
   "outputs": [
    {
     "name": "stdout",
     "output_type": "stream",
     "text": [
      "4950\n"
     ]
    },
    {
     "data": {
      "image/png": "[encoded data removed]",
      "text/plain": [
       "<matplotlib.figure.Figure at 0x3fff44876f50>"
      ]
     },
     "metadata": {},
     "output_type": "display_data"
    }
   ],
   "source": [
    "f = open(\"sinwave.csv\", 'rb').read()\n",
    "data = f.decode().split('\\n')\n",
    "\n",
    "seq_len = 50\n",
    "# try changing this and seeing its affect on end result\n",
    "sequence_length = seq_len + 1\n",
    "result = []\n",
    "for index in range(len(data) - sequence_length):\n",
    "    result.append(data[index: index + sequence_length])\n",
    "# for index in range(len(data) - seq_len + 1):\n",
    "#     result.append(data[index: index + seq_len])\n",
    "    # here, index: is not a keyword, but the list data is being sliced from index to index + sequence_length\n",
    "    \n",
    "result = np.array(result)\n",
    "# result is a list of 4950 lists where each sublist is a list of the datapoints in that particular 51 datapoint window\n",
    "# this shape is 4950 x 51\n",
    "\n",
    "print(len(result))\n",
    "\n",
    "t = np.linspace(0, 50, 51)\n",
    "# t = np.linspace(0, 49, 50)\n",
    "plt.plot(t, result[0])\n",
    "plt.show()\n",
    "plt.close()\n",
    "\n",
    "row = round(0.9 * result.shape[0])\n",
    "# to split the data set into train and test\n",
    "# try changing this and seeing its affect on end result\n",
    "\n",
    "train = result[:int(row), :]\n",
    "# train is 4455 x 51\n",
    "np.random.shuffle(train)\n",
    "# try commenting this and seeing its affect on end result\n",
    "x_train = train[:, :-1]\n",
    "y_train = train[:, -1]\n",
    "x_test = result[int(row):, :-1]\n",
    "y_test = result[int(row):, -1]\n",
    "\n",
    "# x_train.shape = (4455, 50), and x_test.shape = (495, 50)\n",
    "# Adding an extra dimension as Keras LSTM layers take in a NumPy array of 3 dimensions: (4455, 50) --> (4455, 50, 1)\n",
    "x_train = np.reshape(x_train, (x_train.shape[0], x_train.shape[1], 1))\n",
    "x_test = np.reshape(x_test, (x_test.shape[0], x_test.shape[1], 1))"
   ]
  },
  {
   "cell_type": "code",
   "execution_count": 4,
   "metadata": {},
   "outputs": [],
   "source": [
    "def build_model(layers):\n",
    "    # here layers is a list with 4 elements\n",
    "    \n",
    "    model = Sequential()\n",
    "    \n",
    "    model.add(LSTM(\n",
    "        input_dim = layers[0],\n",
    "        output_dim = layers[1],\n",
    "        return_sequences = True))\n",
    "    model.add(Dropout(0.2))\n",
    "    \n",
    "    model.add(LSTM(\n",
    "        layers[2],\n",
    "        return_sequences = False))\n",
    "    model.add(Dropout(0.2))\n",
    "    \n",
    "    model.add(Dense(\n",
    "        output_dim = layers[3]))\n",
    "    model.add(Activation(\"linear\"))\n",
    "    \n",
    "    model.compile(loss=\"mse\", optimizer=\"rmsprop\")\n",
    "    \n",
    "    # try changing whether there is dropout, activation function, loss function, number of layers, in/out of layers\n",
    "    \n",
    "    return model"
   ]
  },
  {
   "cell_type": "code",
   "execution_count": 5,
   "metadata": {},
   "outputs": [],
   "source": [
    "def predict_point_by_point(model, data):\n",
    "    #Predict each timestep given the last sequence of true data, in effect only predicting 1 step ahead each time\n",
    "    predicted = model.predict(data)\n",
    "    predicted = np.reshape(predicted, (predicted.size,))\n",
    "    return predicted\n",
    "\n",
    "def predict_sequence_full(model, data, window_size):\n",
    "    #Shift the window by 1 new prediction each time, re-run predictions on new window\n",
    "    curr_frame = data[0]\n",
    "    predicted = []\n",
    "    for i in range(len(data)):\n",
    "        predicted.append(model.predict(curr_frame[newaxis,:,:])[0,0])\n",
    "        curr_frame = curr_frame[1:]\n",
    "        curr_frame = np.insert(curr_frame, [window_size-1], predicted[-1], axis=0)\n",
    "    return predicted\n",
    "\n",
    "def predict_sequences_multiple(model, data, window_size, prediction_len):\n",
    "    #Predict sequence of 50 steps before shifting prediction run forward by 50 steps\n",
    "    prediction_seqs = []\n",
    "    for i in range(int(len(data)/prediction_len)):\n",
    "        curr_frame = data[i*prediction_len]\n",
    "        predicted = []\n",
    "        for j in range(prediction_len):\n",
    "            predicted.append(model.predict(curr_frame[newaxis,:,:])[0,0])\n",
    "            curr_frame = curr_frame[1:]\n",
    "            curr_frame = np.insert(curr_frame, [window_size-1], predicted[-1], axis=0)\n",
    "        prediction_seqs.append(predicted)\n",
    "    return prediction_seqs\n",
    "\n",
    "def plot_results_multiple(predicted_data, true_data, prediction_len):\n",
    "    fig = plt.figure(facecolor='white')\n",
    "    ax = fig.add_subplot(111)\n",
    "    ax.plot(true_data, label='True Data')\n",
    "    #Pad the list of predictions to shift it in the graph to it's correct start\n",
    "    for i, data in enumerate(predicted_data):\n",
    "        padding = [None for p in range(i * prediction_len)]\n",
    "        plt.plot(padding + data, label='Prediction')\n",
    "        plt.legend()\n",
    "    plt.show()"
   ]
  },
  {
   "cell_type": "code",
   "execution_count": 6,
   "metadata": {},
   "outputs": [
    {
     "name": "stderr",
     "output_type": "stream",
     "text": [
      "/usr/local/lib/python2.7/dist-packages/ipykernel_launcher.py:9: UserWarning: The `input_dim` and `input_length` arguments in recurrent layers are deprecated. Use `input_shape` instead.\n",
      "  if __name__ == '__main__':\n",
      "/usr/local/lib/python2.7/dist-packages/ipykernel_launcher.py:9: UserWarning: Update your `LSTM` call to the Keras 2 API: `LSTM(units=50, return_sequences=True, input_shape=(None, 1))`\n",
      "  if __name__ == '__main__':\n",
      "/usr/local/lib/python2.7/dist-packages/ipykernel_launcher.py:18: UserWarning: Update your `Dense` call to the Keras 2 API: `Dense(units=1)`\n",
      "/home/arjung2/.local/lib/python2.7/site-packages/keras/models.py:981: UserWarning: The `nb_epoch` argument in `fit` has been renamed `epochs`.\n",
      "  warnings.warn('The `nb_epoch` argument in `fit` '\n"
     ]
    },
    {
     "name": "stdout",
     "output_type": "stream",
     "text": [
      "Train on 4232 samples, validate on 223 samples\n",
      "Epoch 1/20\n",
      "4232/4232 [==============================] - 5s 1ms/step - loss: 0.1819 - val_loss: 0.0276\n",
      "Epoch 2/20\n",
      "4232/4232 [==============================] - 2s 472us/step - loss: 0.0264 - val_loss: 0.0180\n",
      "Epoch 3/20\n",
      "4232/4232 [==============================] - 2s 490us/step - loss: 0.0173 - val_loss: 0.0118\n",
      "Epoch 4/20\n",
      "4232/4232 [==============================] - 2s 509us/step - loss: 0.0140 - val_loss: 0.0042\n",
      "Epoch 5/20\n",
      "4232/4232 [==============================] - 2s 483us/step - loss: 0.0128 - val_loss: 0.0123\n",
      "Epoch 6/20\n",
      "4232/4232 [==============================] - 2s 462us/step - loss: 0.0113 - val_loss: 0.0073\n",
      "Epoch 7/20\n",
      "4232/4232 [==============================] - 2s 452us/step - loss: 0.0119 - val_loss: 0.0056\n",
      "Epoch 8/20\n",
      "4232/4232 [==============================] - 2s 463us/step - loss: 0.0116 - val_loss: 0.0053\n",
      "Epoch 9/20\n",
      "4232/4232 [==============================] - 2s 490us/step - loss: 0.0082 - val_loss: 0.0108\n",
      "Epoch 10/20\n",
      "4232/4232 [==============================] - 2s 502us/step - loss: 0.0106 - val_loss: 0.0054\n",
      "Epoch 11/20\n",
      "4232/4232 [==============================] - 2s 460us/step - loss: 0.0102 - val_loss: 0.0023\n",
      "Epoch 12/20\n",
      "4232/4232 [==============================] - 2s 476us/step - loss: 0.0087 - val_loss: 0.0058\n",
      "Epoch 13/20\n",
      "4232/4232 [==============================] - 2s 468us/step - loss: 0.0087 - val_loss: 0.0069\n",
      "Epoch 14/20\n",
      "4232/4232 [==============================] - 2s 478us/step - loss: 0.0091 - val_loss: 0.0037\n",
      "Epoch 15/20\n",
      "4232/4232 [==============================] - 2s 495us/step - loss: 0.0074 - val_loss: 0.0065\n",
      "Epoch 16/20\n",
      "4232/4232 [==============================] - 2s 476us/step - loss: 0.0093 - val_loss: 0.0033\n",
      "Epoch 17/20\n",
      "4232/4232 [==============================] - 2s 490us/step - loss: 0.0071 - val_loss: 0.0014\n",
      "Epoch 18/20\n",
      "4232/4232 [==============================] - 2s 485us/step - loss: 0.0089 - val_loss: 0.0055\n",
      "Epoch 19/20\n",
      "4232/4232 [==============================] - 2s 467us/step - loss: 0.0060 - val_loss: 0.0082\n",
      "Epoch 20/20\n",
      "4232/4232 [==============================] - 2s 487us/step - loss: 0.0080 - val_loss: 0.0016\n",
      "('Training duration (s) : ', 67.17970490455627)\n"
     ]
    },
    {
     "data": {
      "image/png": "[encoded data removed]",
      "text/plain": [
       "<matplotlib.figure.Figure at 0x3fff43390e90>"
      ]
     },
     "metadata": {},
     "output_type": "display_data"
    }
   ],
   "source": [
    "epochs = 20\n",
    "global_start_time = time.time()\n",
    "\n",
    "model = build_model([1, 50, 100, 1])\n",
    "\n",
    "model.fit(x_train,\n",
    "          y_train,\n",
    "          batch_size=512,\n",
    "          nb_epoch=epochs,\n",
    "          validation_split=0.05)\n",
    "\n",
    "predictions = predict_sequences_multiple(model, x_test, seq_len, 50)\n",
    "\n",
    "print('Training duration (s) : ', time.time() - global_start_time)\n",
    "plot_results_multiple(predictions, y_test, 50)"
   ]
  },
  {
   "cell_type": "code",
   "execution_count": null,
   "metadata": {},
   "outputs": [],
   "source": []
  }
 ],
 "metadata": {
  "kernelspec": {
   "display_name": "Python 2",
   "language": "python",
   "name": "python2"
  },
  "language_info": {
   "codemirror_mode": {
    "name": "ipython",
    "version": 2
   },
   "file_extension": ".py",
   "mimetype": "text/x-python",
   "name": "python",
   "nbconvert_exporter": "python",
   "pygments_lexer": "ipython2",
   "version": "2.7.12"
  }
 },
 "nbformat": 4,
 "nbformat_minor": 2
}
